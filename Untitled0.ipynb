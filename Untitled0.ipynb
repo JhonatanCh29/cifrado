{
  "nbformat": 4,
  "nbformat_minor": 0,
  "metadata": {
    "colab": {
      "provenance": [],
      "authorship_tag": "ABX9TyNy6uXIC40CpMXNj0h5vHHA",
      "include_colab_link": true
    },
    "kernelspec": {
      "name": "python3",
      "display_name": "Python 3"
    },
    "language_info": {
      "name": "python"
    }
  },
  "cells": [
    {
      "cell_type": "markdown",
      "metadata": {
        "id": "view-in-github",
        "colab_type": "text"
      },
      "source": [
        "<a href=\"https://colab.research.google.com/github/JhonatanCh29/cifrado/blob/main/Untitled0.ipynb\" target=\"_parent\"><img src=\"https://colab.research.google.com/assets/colab-badge.svg\" alt=\"Open In Colab\"/></a>"
      ]
    },
    {
      "cell_type": "code",
      "source": [
        "!pip install pycryptodome\n",
        "\n",
        "from Crypto.Cipher import AES\n",
        "from Crypto.Util.Padding import pad, unpad\n",
        "import base64\n",
        "import os\n",
        "\n",
        "key = os.urandom(32)\n",
        "\n",
        "tarjeta = \"4280796765448937\".encode()\n",
        "\n",
        "iv = os.urandom(16)\n",
        "cipher = AES.new(key, AES.MODE_CBC, iv)\n",
        "\n",
        "ciphertext = cipher.encrypt(pad(tarjeta, AES.block_size))\n",
        "\n",
        "encrypted_data = base64.b64encode(iv + ciphertext).decode()\n",
        "print(\"🔐 Tarjeta cifrada:\", encrypted_data)\n",
        "\n",
        "decoded_data = base64.b64decode(encrypted_data)\n",
        "\n",
        "iv_dec = decoded_data[:16]\n",
        "ciphertext_dec = decoded_data[16:]\n",
        "\n",
        "cipher_dec = AES.new(key, AES.MODE_CBC, iv_dec)\n",
        "\n",
        "decrypted_data = unpad(cipher_dec.decrypt(ciphertext_dec), AES.block_size).decode()\n",
        "\n",
        "print(\"💳 Tarjeta descifrada:\", decrypted_data)\n"
      ],
      "metadata": {
        "colab": {
          "base_uri": "https://localhost:8080/"
        },
        "id": "zaSK2jW_uC-R",
        "outputId": "9cad3271-52b5-4ab3-eb34-72def6684fd3"
      },
      "execution_count": null,
      "outputs": [
        {
          "output_type": "stream",
          "name": "stdout",
          "text": [
            "Requirement already satisfied: pycryptodome in /usr/local/lib/python3.11/dist-packages (3.22.0)\n",
            "🔐 Tarjeta cifrada: /uD/noGWFiWRcnwghBXkbtviSWwv8p0bi8JamUTyT4VE6zrs5cRYIO2agx4m9hlw\n",
            "💳 Tarjeta descifrada: 4557881323737942\n"
          ]
        }
      ]
    }
  ]
}